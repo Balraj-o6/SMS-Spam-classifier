{
  "nbformat": 4,
  "nbformat_minor": 0,
  "metadata": {
    "colab": {
      "provenance": [],
      "authorship_tag": "ABX9TyNl6v4XIQfqk73sF+l4wzHW",
      "include_colab_link": true
    },
    "kernelspec": {
      "name": "python3",
      "display_name": "Python 3"
    },
    "language_info": {
      "name": "python"
    }
  },
  "cells": [
    {
      "cell_type": "markdown",
      "metadata": {
        "id": "view-in-github",
        "colab_type": "text"
      },
      "source": [
        "<a href=\"https://colab.research.google.com/github/Balraj-o6/SMS-Spam-classifier/blob/main/spam_classifier.ipynb\" target=\"_parent\"><img src=\"https://colab.research.google.com/assets/colab-badge.svg\" alt=\"Open In Colab\"/></a>"
      ]
    },
    {
      "cell_type": "markdown",
      "source": [
        "# Loading the dataset"
      ],
      "metadata": {
        "id": "GR7kPGFwxu5D"
      }
    },
    {
      "cell_type": "code",
      "execution_count": null,
      "metadata": {
        "id": "D5pIU0O_rB72",
        "colab": {
          "base_uri": "https://localhost:8080/"
        },
        "outputId": "74d0c8e8-96ad-4048-f5e0-440dd8bfe62e"
      },
      "outputs": [
        {
          "output_type": "stream",
          "name": "stdout",
          "text": [
            "label\n",
            "ham     4825\n",
            "spam     747\n",
            "Name: count, dtype: int64\n",
            "  label                                            message\n",
            "0   ham  Go until jurong point, crazy.. Available only ...\n",
            "1   ham                      Ok lar... Joking wif u oni...\n",
            "2  spam  Free entry in 2 a wkly comp to win FA Cup fina...\n",
            "3   ham  U dun say so early hor... U c already then say...\n",
            "4   ham  Nah I don't think he goes to usf, he lives aro...\n"
          ]
        }
      ],
      "source": [
        "import pandas as pd\n",
        "\n",
        "# Load dataset\n",
        "df = pd.read_csv('spam.csv', encoding='latin-1')\n",
        "\n",
        "# Keep only necessary columns\n",
        "df = df[['v1', 'v2']]\n",
        "df.columns = ['label', 'message']\n",
        "\n",
        "# Check distribution\n",
        "print(df['label'].value_counts())\n",
        "\n",
        "# Preview the data\n",
        "print(df.head())\n"
      ]
    },
    {
      "cell_type": "markdown",
      "source": [
        "# Visualise the dataset into spam or ham"
      ],
      "metadata": {
        "id": "oYkPCrbYx66a"
      }
    },
    {
      "cell_type": "code",
      "source": [
        "import matplotlib.pyplot as plt\n",
        "import seaborn as sns\n",
        "\n",
        "# Get the counts of 'spam' and 'ham'\n",
        "label_counts = df['label'].value_counts()\n",
        "\n",
        "# Create a bar plot\n",
        "plt.figure(figsize=(6, 4))\n",
        "sns.barplot(x=label_counts.index, y=label_counts.values)\n",
        "plt.title('Distribution of Spam and Ham Messages')\n",
        "plt.xlabel('Message Type')\n",
        "plt.ylabel('Count')\n",
        "plt.show()"
      ],
      "metadata": {
        "colab": {
          "base_uri": "https://localhost:8080/",
          "height": 410
        },
        "id": "5P9-vkO6r7uG",
        "outputId": "66c759be-5744-42a6-92a4-9ac89dc7bf73"
      },
      "execution_count": null,
      "outputs": [
        {
          "output_type": "display_data",
          "data": {
            "text/plain": [
              "<Figure size 600x400 with 1 Axes>"
            ],
            "image/png": "[encoded data removed]"
          },
          "metadata": {}
        }
      ]
    },
    {
      "cell_type": "markdown",
      "source": [
        "# Preprocess the data\n",
        "### convert to lowercase\n",
        "### remove punctuation\n",
        "### remove stopwords\n",
        "### tokenization"
      ],
      "metadata": {
        "id": "9XVQYrnDyIBp"
      }
    },
    {
      "cell_type": "code",
      "source": [
        "\n",
        "import string\n",
        "from nltk.corpus import stopwords\n",
        "# from nltk.tokenize import word_tokenize # Removed NLTK tokenizer\n",
        "import nltk\n",
        "\n",
        "nltk.download('stopwords') # Only need stopwords now\n",
        "\n",
        "def preprocess(text):\n",
        "    text = text.lower()  # lowercase\n",
        "    text = ''.join([char for char in text if char not in string.punctuation])  # remove punctuation\n",
        "    # tokens = word_tokenize(text)  # Removed NLTK tokenization\n",
        "    tokens = text.split() # Simple tokenization by splitting on spaces\n",
        "    filtered = [word for word in tokens if word not in stopwords.words('english')]  # remove stopwords\n",
        "    return ' '.join(filtered)\n",
        "\n",
        "df['cleaned_message'] = df['message'].apply(preprocess)"
      ],
      "metadata": {
        "colab": {
          "base_uri": "https://localhost:8080/"
        },
        "id": "kBuQ5ZnYsbc-",
        "outputId": "0a833987-fece-43ce-c83a-2cdd14b7bc0d"
      },
      "execution_count": null,
      "outputs": [
        {
          "output_type": "stream",
          "name": "stderr",
          "text": [
            "[nltk_data] Downloading package stopwords to /root/nltk_data...\n",
            "[nltk_data]   Package stopwords is already up-to-date!\n"
          ]
        }
      ]
    },
    {
      "cell_type": "markdown",
      "source": [
        "# Convert text to numbers"
      ],
      "metadata": {
        "id": "rqG3XeVqy2TL"
      }
    },
    {
      "cell_type": "code",
      "source": [
        "from sklearn.feature_extraction.text import TfidfVectorizer\n",
        "\n",
        "vectorizer = TfidfVectorizer()\n",
        "X = vectorizer.fit_transform(df['cleaned_message'])\n"
      ],
      "metadata": {
        "id": "zqXezBFCuId4"
      },
      "execution_count": null,
      "outputs": []
    },
    {
      "cell_type": "markdown",
      "source": [
        "# Encode label"
      ],
      "metadata": {
        "id": "-ORif7_Fy_jl"
      }
    },
    {
      "cell_type": "code",
      "source": [
        "from sklearn.preprocessing import LabelEncoder\n",
        "\n",
        "le = LabelEncoder()\n",
        "y = le.fit_transform(df['label'])  # 'ham' -> 0, 'spam' -> 1\n"
      ],
      "metadata": {
        "id": "SZhPN2W0uQY7"
      },
      "execution_count": null,
      "outputs": []
    },
    {
      "cell_type": "markdown",
      "source": [
        "# Split the dataset into train & test set"
      ],
      "metadata": {
        "id": "jfBEiDVXzEQp"
      }
    },
    {
      "cell_type": "code",
      "source": [
        "from sklearn.model_selection import train_test_split\n",
        "\n",
        "X_train, X_test, y_train, y_test = train_test_split(X, y, test_size=0.2, random_state=42)\n"
      ],
      "metadata": {
        "id": "M0Wu8geiuXgT"
      },
      "execution_count": null,
      "outputs": []
    },
    {
      "cell_type": "markdown",
      "source": [
        "# Train the model on train set & predict the sms on test set"
      ],
      "metadata": {
        "id": "U1vi0vEhzRpC"
      }
    },
    {
      "cell_type": "code",
      "source": [
        "from sklearn.linear_model import LogisticRegression\n",
        "from sklearn.metrics import accuracy_score, confusion_matrix, classification_report\n",
        "\n",
        "model = LogisticRegression()\n",
        "model.fit(X_train, y_train)\n",
        "\n",
        "# Make predictions\n",
        "y_pred = model.predict(X_test)\n",
        "\n",
        "# Evaluate\n",
        "print(\"Accuracy:\", accuracy_score(y_test, y_pred))\n",
        "print(\"Confusion Matrix:\\n\", confusion_matrix(y_test, y_pred))\n",
        "print(\"Classification Report:\\n\", classification_report(y_test, y_pred))\n"
      ],
      "metadata": {
        "colab": {
          "base_uri": "https://localhost:8080/"
        },
        "id": "1ydO9nSNucaD",
        "outputId": "c6f1ce9c-4fd4-4e73-8fb1-42cb94cc9da9"
      },
      "execution_count": null,
      "outputs": [
        {
          "output_type": "stream",
          "name": "stdout",
          "text": [
            "Accuracy: 0.9426008968609866\n",
            "Confusion Matrix:\n",
            " [[961   4]\n",
            " [ 60  90]]\n",
            "Classification Report:\n",
            "               precision    recall  f1-score   support\n",
            "\n",
            "           0       0.94      1.00      0.97       965\n",
            "           1       0.96      0.60      0.74       150\n",
            "\n",
            "    accuracy                           0.94      1115\n",
            "   macro avg       0.95      0.80      0.85      1115\n",
            "weighted avg       0.94      0.94      0.94      1115\n",
            "\n"
          ]
        }
      ]
    },
    {
      "cell_type": "markdown",
      "source": [
        "# Test the trained model on new data"
      ],
      "metadata": {
        "id": "jhLioTTLzjt9"
      }
    },
    {
      "cell_type": "code",
      "source": [
        "def predict_message(msg):\n",
        "    msg = preprocess(msg)\n",
        "    vector = vectorizer.transform([msg])\n",
        "    prediction = model.predict(vector)[0]\n",
        "    return 'Spam' if prediction == 1 else 'Ham'\n",
        "\n",
        "# Example\n",
        "print(predict_message(\"Congratulations! You've won a free ticket.\"))\n",
        "print(predict_message(\"Hey, how are you doing today?\"))\n"
      ],
      "metadata": {
        "colab": {
          "base_uri": "https://localhost:8080/"
        },
        "id": "xZMUueHUvVuT",
        "outputId": "fe937352-192a-4972-c522-32b04156c7ac"
      },
      "execution_count": null,
      "outputs": [
        {
          "output_type": "stream",
          "name": "stdout",
          "text": [
            "Ham\n",
            "Ham\n"
          ]
        }
      ]
    }
  ]
}